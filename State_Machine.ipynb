{
  "nbformat": 4,
  "nbformat_minor": 0,
  "metadata": {
    "colab": {
      "provenance": []
    },
    "kernelspec": {
      "name": "python3",
      "display_name": "Python 3"
    },
    "language_info": {
      "name": "python"
    }
  },
  "cells": [
    {
      "cell_type": "code",
      "execution_count": null,
      "metadata": {
        "colab": {
          "base_uri": "https://localhost:8080/"
        },
        "id": "0IKiaSq8en_r",
        "outputId": "5290c82c-fb2f-4f08-86ac-3704217a3d92"
      },
      "outputs": [
        {
          "output_type": "stream",
          "name": "stdout",
          "text": [
            "Requirement already satisfied: matplotlib in /usr/local/lib/python3.11/dist-packages (3.10.0)\n",
            "Requirement already satisfied: contourpy>=1.0.1 in /usr/local/lib/python3.11/dist-packages (from matplotlib) (1.3.1)\n",
            "Requirement already satisfied: cycler>=0.10 in /usr/local/lib/python3.11/dist-packages (from matplotlib) (0.12.1)\n",
            "Requirement already satisfied: fonttools>=4.22.0 in /usr/local/lib/python3.11/dist-packages (from matplotlib) (4.56.0)\n",
            "Requirement already satisfied: kiwisolver>=1.3.1 in /usr/local/lib/python3.11/dist-packages (from matplotlib) (1.4.8)\n",
            "Requirement already satisfied: numpy>=1.23 in /usr/local/lib/python3.11/dist-packages (from matplotlib) (1.26.4)\n",
            "Requirement already satisfied: packaging>=20.0 in /usr/local/lib/python3.11/dist-packages (from matplotlib) (24.2)\n",
            "Requirement already satisfied: pillow>=8 in /usr/local/lib/python3.11/dist-packages (from matplotlib) (11.1.0)\n",
            "Requirement already satisfied: pyparsing>=2.3.1 in /usr/local/lib/python3.11/dist-packages (from matplotlib) (3.2.1)\n",
            "Requirement already satisfied: python-dateutil>=2.7 in /usr/local/lib/python3.11/dist-packages (from matplotlib) (2.8.2)\n",
            "Requirement already satisfied: six>=1.5 in /usr/local/lib/python3.11/dist-packages (from python-dateutil>=2.7->matplotlib) (1.17.0)\n"
          ]
        }
      ],
      "source": [
        "!pip install matplotlib\n"
      ]
    },
    {
      "cell_type": "code",
      "source": [
        "import random\n",
        "import matplotlib.pyplot as plt\n"
      ],
      "metadata": {
        "id": "mCqHen7we1cf"
      },
      "execution_count": null,
      "outputs": []
    },
    {
      "cell_type": "code",
      "source": [
        "class GameAgent:\n",
        "    def __init__(self, secret_number, max_attempts=5):\n",
        "        self.secret_number = secret_number\n",
        "        self.max_attempts = max_attempts\n",
        "        self.attempts = 0\n",
        "        self.state = \"Esperando tentativa\"\n",
        "        self.history = []  # Histórico de tentativas\n",
        "\n",
        "    def make_guess(self, guess):\n",
        "        self.attempts += 1\n",
        "        self.history.append(guess)\n",
        "\n",
        "        if guess == self.secret_number:\n",
        "            self.state = \"Acertou!\"\n",
        "            return \"Parabéns! Você acertou o número.\"\n",
        "        elif self.attempts >= self.max_attempts:\n",
        "            self.state = \"Fim do jogo\"\n",
        "            return f\"Game Over! O número era {self.secret_number}.\"\n",
        "        elif guess < self.secret_number:\n",
        "            self.state = \"Tentativa errada (muito baixo)\"\n",
        "            return \"O número é maior. Tente novamente.\"\n",
        "        else:\n",
        "            self.state = \"Tentativa errada (muito alto)\"\n",
        "            return \"O número é menor. Tente novamente.\"\n",
        "# Criando um agente com um número secreto entre 1 e 100\n",
        "agent = GameAgent(secret_number=random.randint(1, 100))\n",
        "\n",
        "while agent.state not in [\"Acertou!\", \"Fim do jogo\"]:\n",
        "    guess = int(input(\"Digite um número: \"))\n",
        "    print(agent.make_guess(guess))\n",
        "    import matplotlib.pyplot as plt\n",
        "\n",
        "def plot_attempts(agent):\n",
        "    plt.figure(figsize=(8,5))\n",
        "    plt.plot(range(1, len(agent.history) + 1), agent.history, marker='o', linestyle='-')\n",
        "    plt.axhline(y=agent.secret_number, color='r', linestyle='--', label='Número Secreto')\n",
        "    plt.xlabel(\"Tentativas\")\n",
        "    plt.ylabel(\"Valor do Palpite\")\n",
        "    plt.title(\"Evolução das Tentativas do Jogador\")\n",
        "    plt.legend()\n",
        "    plt.show()\n",
        "\n",
        "# Criando um jogo de teste e gerando o gráfico\n",
        "agent = GameAgent(secret_number=42)\n",
        "guesses = [10, 20, 30, 40, 45, 42]\n",
        "for g in guesses:\n",
        "    agent.make_guess(g)\n",
        "plot_attempts(agent)"
      ],
      "metadata": {
        "colab": {
          "base_uri": "https://localhost:8080/",
          "height": 211
        },
        "id": "LbmivjK9LSti",
        "outputId": "adaad5f4-0610-44a3-efb7-b71f359cb5e8"
      },
      "execution_count": 2,
      "outputs": [
        {
          "output_type": "error",
          "ename": "NameError",
          "evalue": "name 'random' is not defined",
          "traceback": [
            "\u001b[0;31m---------------------------------------------------------------------------\u001b[0m",
            "\u001b[0;31mNameError\u001b[0m                                 Traceback (most recent call last)",
            "\u001b[0;32m<ipython-input-2-d070e6019235>\u001b[0m in \u001b[0;36m<cell line: 0>\u001b[0;34m()\u001b[0m\n\u001b[1;32m     24\u001b[0m             \u001b[0;32mreturn\u001b[0m \u001b[0;34m\"O número é menor. Tente novamente.\"\u001b[0m\u001b[0;34m\u001b[0m\u001b[0;34m\u001b[0m\u001b[0m\n\u001b[1;32m     25\u001b[0m \u001b[0;31m# Criando um agente com um número secreto entre 1 e 100\u001b[0m\u001b[0;34m\u001b[0m\u001b[0;34m\u001b[0m\u001b[0m\n\u001b[0;32m---> 26\u001b[0;31m \u001b[0magent\u001b[0m \u001b[0;34m=\u001b[0m \u001b[0mGameAgent\u001b[0m\u001b[0;34m(\u001b[0m\u001b[0msecret_number\u001b[0m\u001b[0;34m=\u001b[0m\u001b[0mrandom\u001b[0m\u001b[0;34m.\u001b[0m\u001b[0mrandint\u001b[0m\u001b[0;34m(\u001b[0m\u001b[0;36m1\u001b[0m\u001b[0;34m,\u001b[0m \u001b[0;36m100\u001b[0m\u001b[0;34m)\u001b[0m\u001b[0;34m)\u001b[0m\u001b[0;34m\u001b[0m\u001b[0;34m\u001b[0m\u001b[0m\n\u001b[0m\u001b[1;32m     27\u001b[0m \u001b[0;34m\u001b[0m\u001b[0m\n\u001b[1;32m     28\u001b[0m \u001b[0;32mwhile\u001b[0m \u001b[0magent\u001b[0m\u001b[0;34m.\u001b[0m\u001b[0mstate\u001b[0m \u001b[0;32mnot\u001b[0m \u001b[0;32min\u001b[0m \u001b[0;34m[\u001b[0m\u001b[0;34m\"Acertou!\"\u001b[0m\u001b[0;34m,\u001b[0m \u001b[0;34m\"Fim do jogo\"\u001b[0m\u001b[0;34m]\u001b[0m\u001b[0;34m:\u001b[0m\u001b[0;34m\u001b[0m\u001b[0;34m\u001b[0m\u001b[0m\n",
            "\u001b[0;31mNameError\u001b[0m: name 'random' is not defined"
          ]
        }
      ]
    }
  ]
}